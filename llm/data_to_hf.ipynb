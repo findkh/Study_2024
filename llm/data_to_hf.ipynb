{
  "nbformat": 4,
  "nbformat_minor": 0,
  "metadata": {
    "colab": {
      "private_outputs": true,
      "provenance": [],
      "authorship_tag": "ABX9TyMnfLYOcfXqamSfgXzJIZLE"
    },
    "kernelspec": {
      "name": "python3",
      "display_name": "Python 3"
    },
    "language_info": {
      "name": "python"
    }
  },
  "cells": [
    {
      "cell_type": "code",
      "execution_count": null,
      "metadata": {
        "id": "9HcJAHFsHUUG"
      },
      "outputs": [],
      "source": [
        "from google.colab import drive\n",
        "drive.mount(\"/content/gdrive\")"
      ]
    },
    {
      "cell_type": "code",
      "source": [
        "dataPath = \"/content/gdrive/MyDrive/levware_test_data.csv\""
      ],
      "metadata": {
        "id": "W0KLYFSRLHaO"
      },
      "execution_count": null,
      "outputs": []
    },
    {
      "cell_type": "code",
      "source": [
        "# datasets: hugging-face의 인공지능 커뮤니티의 데이터를 불러오고 관리하는 라이브러리\n",
        "# 기존 라이브러리가 2월19일 기준 업데이트 되면서 pyarrow 라이브러리와 호환성 문제 발생 띠리사 호환라이브러리 정의\n",
        "# jsonlines: json 포맷의 데이터를 핸들링하는 라이브러리\n",
        "!pip install datasets==2.16.1 jsonlines==4.0.0"
      ],
      "metadata": {
        "id": "1MsE5jJjLOm9"
      },
      "execution_count": null,
      "outputs": []
    },
    {
      "cell_type": "code",
      "source": [
        "# hugging face 로그인: hugging face -> 우측상단의 계정선택 -> settings -> access token\n",
        "import huggingface_hub\n",
        "huggingface_hub.login()"
      ],
      "metadata": {
        "id": "NBdW504XLRxd"
      },
      "execution_count": null,
      "outputs": []
    },
    {
      "cell_type": "code",
      "source": [
        "# 행과열을 핸들링하는 라이브러리\n",
        "import pandas as pd\n",
        "# json 포맷 데이터를 핸들링하는 라이브러리\n",
        "import json\n",
        "import jsonlines\n",
        "# hugging face 데이터 관리 라이브러리\n",
        "from datasets import Dataset"
      ],
      "metadata": {
        "id": "8d02huQELZ2p"
      },
      "execution_count": null,
      "outputs": []
    },
    {
      "cell_type": "code",
      "source": [
        "# 데이터 경로 설정 및 불러오기\n",
        "datasetName = \"levware_test_data.csv\"\n",
        "jsonFileName = \"levware_test_data.jsonl\""
      ],
      "metadata": {
        "id": "Ho-hW806LiyW"
      },
      "execution_count": null,
      "outputs": []
    },
    {
      "cell_type": "code",
      "source": [
        "def csv_to_json(csv_file_path, json_file_path):\n",
        "    # CSV 파일을 DataFrame으로 읽기★ (한글인 경우 encoding=\"ms949\") 영문인경우 해당 내용 삭제 ★\n",
        "    df = pd.read_csv(csv_file_path, encoding=\"cp949\")\n",
        "\n",
        "    # JSON 파일로 저장\n",
        "    with open(json_file_path, 'w', encoding='utf-8') as json_file:\n",
        "        # 각 행을 JSON으로 변환하여 바로 파일에 쓰기\n",
        "        for index, row in df.iterrows():\n",
        "            data = {'inputs': row['inputs'], 'response': row['response']}\n",
        "            json.dump(data, json_file, ensure_ascii=False)\n",
        "            json_file.write('\\n')  # 각 행마다 줄바꿈\n",
        "\n",
        "# CSV 파일 경로와 JSON 파일 경로 설정\n",
        "csv_file_path = dataPath\n",
        "json_file_path = \"/content/gdrive/MyDrive/\"+jsonFileName\n",
        "\n",
        "print(\"csv_file_path: \", csv_file_path)\n",
        "print(\"json_file_path: \", json_file_path)\n",
        "\n",
        "# 함수 호출\n",
        "csv_to_json(csv_file_path, json_file_path)"
      ],
      "metadata": {
        "id": "geCYmdZ5Lo82"
      },
      "execution_count": null,
      "outputs": []
    },
    {
      "cell_type": "code",
      "source": [
        "indataset = []\n",
        "with jsonlines.open(json_file_path) as f:\n",
        "    for line in f.iter():\n",
        "      indataset.append(f'<s>[INST] {line[\"inputs\"]} [/INST] {line[\"response\"]} </s>')\n",
        "    #   indataset.append(f'<s>### Instruction: \\n{line[\"inputs\"]} \\n\\n### Response: \\n{line[\"response\"]}</s>')\n",
        "\n",
        "# 데이터셋 확인\n",
        "print('데이터셋 확인')\n",
        "print(indataset[:5])\n",
        "print(dataPath)\n",
        "\n",
        "# 데이터셋 생성 및 저장\n",
        "indataset = Dataset.from_dict({\"text\": indataset})\n",
        "# indataset.save_to_disk(dataPath)\n",
        "\n",
        "# 데이터셋 info 확인\n",
        "print('데이터셋 info 확인')\n",
        "print(indataset)"
      ],
      "metadata": {
        "id": "3-5CtlHxMVFw"
      },
      "execution_count": null,
      "outputs": []
    },
    {
      "cell_type": "code",
      "source": [
        "print(indataset)\n",
        "indataset.push_to_hub(\"kyounghyun/levware_test\")"
      ],
      "metadata": {
        "id": "NGnPNts_Nnfq"
      },
      "execution_count": null,
      "outputs": []
    }
  ]
}